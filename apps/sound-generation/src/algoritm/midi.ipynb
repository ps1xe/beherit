{
  "cells": [
    {
      "attachments": {},
      "cell_type": "markdown",
      "metadata": {},
      "source": [
        "PianoRoll\n"
      ]
    },
    {
      "cell_type": "code",
      "execution_count": null,
      "metadata": {},
      "outputs": [],
      "source": [
        "!pip install pypianoroll"
      ]
    },
    {
      "cell_type": "code",
      "execution_count": 105,
      "metadata": {},
      "outputs": [],
      "source": [
        "import pypianoroll\n",
        "import glob\n",
        "import mido\n",
        "import numpy as np"
      ]
    },
    {
      "cell_type": "code",
      "execution_count": 322,
      "metadata": {},
      "outputs": [],
      "source": [
        "def midi_to_pianoroll(files_path):\n",
        "    n = 400\n",
        "    piano_roll = []\n",
        "    for file in glob.glob(files_path):\n",
        "        track_count = 0\n",
        "        multitrack = pypianoroll.read(file)\n",
        "        pianorolls = multitrack.tracks\n",
        "        multitrack_for_piano_roll = pypianoroll.Multitrack()\n",
        "        for track in pianorolls:\n",
        "            if(track.is_drum == False):\n",
        "                multitrack_for_piano_roll.append(pypianoroll.StandardTrack(pianoroll=track.pianoroll, program=track_count))\n",
        "                track_count += 1\n",
        "                \n",
        "        # multitrack_for_piano_roll.plot()\n",
        "        track_piano_roll = multitrack_for_piano_roll.blend()\n",
        "        # piano_roll.append(track_piano_roll)\n",
        "        result = [track_piano_roll[i:i+n] for i in range(0, len(track_piano_roll), n) if len(track_piano_roll[i:i+n]) == n]\n",
        "        for i in result:\n",
        "            piano_roll.append(i)\n",
        "\n",
        "    return piano_roll"
      ]
    },
    {
      "cell_type": "code",
      "execution_count": 323,
      "metadata": {},
      "outputs": [],
      "source": [
        "def pianoroll_to_midi(piano_rolls, file_path):\n",
        "    multitrack_out = pypianoroll.Multitrack()\n",
        "    multitrack_out.append(pypianoroll.StandardTrack(pianoroll=piano_rolls, program=0))\n",
        "    multitrack_out.write(file_path)\n"
      ]
    },
    {
      "attachments": {},
      "cell_type": "markdown",
      "metadata": {},
      "source": [
        "## Example"
      ]
    },
    {
      "attachments": {},
      "cell_type": "markdown",
      "metadata": {},
      "source": [
        "Пример преобразования midi в piano roll с помощью функции midi_to_pianoroll, описанной выше"
      ]
    },
    {
      "cell_type": "code",
      "execution_count": 331,
      "metadata": {},
      "outputs": [],
      "source": [
        "files_path = \"input-sounds/genres/test/1 (1).mid\"\n",
        "piano_rolls = midi_to_pianoroll(files_path)"
      ]
    },
    {
      "attachments": {},
      "cell_type": "markdown",
      "metadata": {},
      "source": [
        "Сохранение и загрузка piano_rolls(Будет нужно для обучения и генерации)"
      ]
    },
    {
      "cell_type": "code",
      "execution_count": 332,
      "metadata": {},
      "outputs": [],
      "source": [
        "np.save('generated/piano_rolls/classical/piano_rolls.npy', piano_rolls)"
      ]
    },
    {
      "cell_type": "code",
      "execution_count": 333,
      "metadata": {},
      "outputs": [
        {
          "name": "stdout",
          "output_type": "stream",
          "text": [
            "[[[0 0 0 ... 0 0 0]\n",
            "  [0 0 0 ... 0 0 0]\n",
            "  [0 0 0 ... 0 0 0]\n",
            "  ...\n",
            "  [0 0 0 ... 0 0 0]\n",
            "  [0 0 0 ... 0 0 0]\n",
            "  [0 0 0 ... 0 0 0]]\n",
            "\n",
            " [[0 0 0 ... 0 0 0]\n",
            "  [0 0 0 ... 0 0 0]\n",
            "  [0 0 0 ... 0 0 0]\n",
            "  ...\n",
            "  [0 0 0 ... 0 0 0]\n",
            "  [0 0 0 ... 0 0 0]\n",
            "  [0 0 0 ... 0 0 0]]\n",
            "\n",
            " [[0 0 0 ... 0 0 0]\n",
            "  [0 0 0 ... 0 0 0]\n",
            "  [0 0 0 ... 0 0 0]\n",
            "  ...\n",
            "  [0 0 0 ... 0 0 0]\n",
            "  [0 0 0 ... 0 0 0]\n",
            "  [0 0 0 ... 0 0 0]]\n",
            "\n",
            " ...\n",
            "\n",
            " [[0 0 0 ... 0 0 0]\n",
            "  [0 0 0 ... 0 0 0]\n",
            "  [0 0 0 ... 0 0 0]\n",
            "  ...\n",
            "  [0 0 0 ... 0 0 0]\n",
            "  [0 0 0 ... 0 0 0]\n",
            "  [0 0 0 ... 0 0 0]]\n",
            "\n",
            " [[0 0 0 ... 0 0 0]\n",
            "  [0 0 0 ... 0 0 0]\n",
            "  [0 0 0 ... 0 0 0]\n",
            "  ...\n",
            "  [0 0 0 ... 0 0 0]\n",
            "  [0 0 0 ... 0 0 0]\n",
            "  [0 0 0 ... 0 0 0]]\n",
            "\n",
            " [[0 0 0 ... 0 0 0]\n",
            "  [0 0 0 ... 0 0 0]\n",
            "  [0 0 0 ... 0 0 0]\n",
            "  ...\n",
            "  [0 0 0 ... 0 0 0]\n",
            "  [0 0 0 ... 0 0 0]\n",
            "  [0 0 0 ... 0 0 0]]]\n"
          ]
        }
      ],
      "source": [
        "loaded_piano_rolls = np.load('generated/piano_rolls/classical/piano_rolls.npy', allow_pickle=True)\n",
        "print(loaded_piano_rolls)"
      ]
    },
    {
      "attachments": {},
      "cell_type": "markdown",
      "metadata": {},
      "source": [
        "Преобразование piano_rolls в midi файл"
      ]
    },
    {
      "cell_type": "code",
      "execution_count": 334,
      "metadata": {},
      "outputs": [],
      "source": [
        "for track_piano_roll, i in zip(loaded_piano_rolls, range(len(loaded_piano_rolls))):\n",
        "    pianoroll_to_midi(track_piano_roll, \"generated/tmp/example_out_\" + str(i) + \".mid\")"
      ]
    },
    {
      "attachments": {},
      "cell_type": "markdown",
      "metadata": {},
      "source": [
        "Увеличение темпа (преобразование в piano roll, почти в два раза замедляет midi)"
      ]
    },
    {
      "cell_type": "code",
      "execution_count": 335,
      "metadata": {},
      "outputs": [],
      "source": [
        "files_path = \"generated/tmp/*.mid\"\n",
        "for file, i in zip(glob.glob(files_path), range(len(glob.glob(files_path)))):\n",
        "    mid = mido.MidiFile(file)\n",
        "\n",
        "    new_tempo = mido.bpm2tempo(240)\n",
        "    for track in mid.tracks:\n",
        "        for msg in track:\n",
        "            if msg.type == 'set_tempo':\n",
        "                msg.tempo = new_tempo\n",
        "\n",
        "    mid.save(\"generated/tmp/example_out_\" + str(i) + \".mid\")\n"
      ]
    }
  ],
  "metadata": {
    "colab": {
      "provenance": []
    },
    "kernelspec": {
      "display_name": "Python 3",
      "language": "python",
      "name": "python3"
    },
    "language_info": {
      "codemirror_mode": {
        "name": "ipython",
        "version": 3
      },
      "file_extension": ".py",
      "mimetype": "text/x-python",
      "name": "python",
      "nbconvert_exporter": "python",
      "pygments_lexer": "ipython3",
      "version": "3.11.2"
    },
    "vscode": {
      "interpreter": {
        "hash": "c261aea317cc0286b3b3261fbba9abdec21eaa57589985bb7a274bf54d6cc0a7"
      }
    }
  },
  "nbformat": 4,
  "nbformat_minor": 0
}
