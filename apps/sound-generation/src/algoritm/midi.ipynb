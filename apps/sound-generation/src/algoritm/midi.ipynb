{
  "cells": [
    {
      "attachments": {},
      "cell_type": "markdown",
      "metadata": {},
      "source": [
        "PianoRoll\n"
      ]
    },
    {
      "cell_type": "code",
      "execution_count": 23,
      "metadata": {},
      "outputs": [],
      "source": [
        "# !pip install pypianoroll"
      ]
    },
    {
      "cell_type": "code",
      "execution_count": 38,
      "metadata": {},
      "outputs": [],
      "source": [
        "import pypianoroll\n",
        "import glob\n",
        "import mido\n",
        "import numpy as np"
      ]
    },
    {
      "cell_type": "code",
      "execution_count": 39,
      "metadata": {},
      "outputs": [],
      "source": [
        "def midi_to_pianoroll(files_path):\n",
        "    n = 600\n",
        "    piano_roll = []\n",
        "    for file in glob.glob(files_path):\n",
        "        track_count = 0\n",
        "        multitrack = pypianoroll.read(file)\n",
        "        pianorolls = multitrack.tracks\n",
        "        multitrack_for_piano_roll = pypianoroll.Multitrack()\n",
        "        for track in pianorolls:\n",
        "            if(track.is_drum == False):\n",
        "                multitrack_for_piano_roll.append(pypianoroll.StandardTrack(pianoroll=track.pianoroll, program=track_count))\n",
        "                track_count += 1\n",
        "                \n",
        "        # multitrack_for_piano_roll.plot()\n",
        "        track_piano_roll = multitrack_for_piano_roll.blend()\n",
        "        result = [track_piano_roll[i:i+n] for i in range(0, len(track_piano_roll), n) if len(track_piano_roll[i:i+n]) == n]\n",
        "        for i in result:\n",
        "            i[i != 0] = 1\n",
        "            piano_roll.append(i)\n",
        "\n",
        "    return piano_roll"
      ]
    },
    {
      "cell_type": "code",
      "execution_count": 40,
      "metadata": {},
      "outputs": [],
      "source": [
        "def pianoroll_to_midi(piano_rolls, file_path):\n",
        "    piano_roll = np.concatenate(piano_rolls, axis=0)\n",
        "    multitrack_out = pypianoroll.Multitrack()\n",
        "    multitrack_out.append(pypianoroll.StandardTrack(pianoroll=piano_roll, program=0))\n",
        "    multitrack_out.write(file_path)\n"
      ]
    },
    {
      "attachments": {},
      "cell_type": "markdown",
      "metadata": {},
      "source": [
        "## Example"
      ]
    },
    {
      "attachments": {},
      "cell_type": "markdown",
      "metadata": {},
      "source": [
        "Пример преобразования midi в piano roll с помощью функции midi_to_pianoroll, описанной выше"
      ]
    },
    {
      "cell_type": "code",
      "execution_count": 41,
      "metadata": {},
      "outputs": [
        {
          "name": "stderr",
          "output_type": "stream",
          "text": [
            "c:\\Python311\\Lib\\site-packages\\pretty_midi\\pretty_midi.py:100: RuntimeWarning: Tempo, Key or Time signature change events found on non-zero tracks.  This is not a valid type 0 or type 1 MIDI file.  Tempo, Key or Time Signature may be wrong.\n",
            "  warnings.warn(\n"
          ]
        }
      ],
      "source": [
        "files_path = \"input-sounds/genres/test/*.mid\"\n",
        "piano_rolls = midi_to_pianoroll(files_path)"
      ]
    },
    {
      "attachments": {},
      "cell_type": "markdown",
      "metadata": {},
      "source": [
        "Сохранение и загрузка piano_rolls(Будет нужно для обучения и генерации)"
      ]
    },
    {
      "cell_type": "code",
      "execution_count": 42,
      "metadata": {},
      "outputs": [],
      "source": [
        "np.save('generated/piano_rolls/classical/piano_rolls.npy', piano_rolls)"
      ]
    },
    {
      "cell_type": "code",
      "execution_count": 45,
      "metadata": {},
      "outputs": [],
      "source": [
        "# loaded_piano_rolls = np.load('generated/piano_rolls/classical/piano_rolls.npy', allow_pickle=True)\n",
        "# loaded_piano_rolls = loaded_piano_rolls*127"
      ]
    },
    {
      "attachments": {},
      "cell_type": "markdown",
      "metadata": {},
      "source": [
        "Преобразование piano_rolls в midi файл"
      ]
    },
    {
      "cell_type": "code",
      "execution_count": 53,
      "metadata": {},
      "outputs": [],
      "source": [
        "generated_piano_roll = np.load('generated/generated_piano_rolls/piano_rolls.npy', allow_pickle=True)\n",
        "generated_piano_roll = generated_piano_roll*127"
      ]
    },
    {
      "cell_type": "code",
      "execution_count": 54,
      "metadata": {},
      "outputs": [],
      "source": [
        "pianoroll_to_midi(generated_piano_roll, \"generated/tmp/example_out.mid\")"
      ]
    },
    {
      "attachments": {},
      "cell_type": "markdown",
      "metadata": {},
      "source": [
        "Увеличение темпа (преобразование в piano roll, почти в два раза замедляет midi)"
      ]
    },
    {
      "cell_type": "code",
      "execution_count": 49,
      "metadata": {},
      "outputs": [],
      "source": [
        "files_path = \"generated/tmp/*.mid\"\n",
        "for file, i in zip(glob.glob(files_path), range(len(glob.glob(files_path)))):\n",
        "    mid = mido.MidiFile(file)\n",
        "\n",
        "    new_tempo = mido.bpm2tempo(240)\n",
        "    for track in mid.tracks:\n",
        "        for msg in track:\n",
        "            if msg.type == 'set_tempo':\n",
        "                msg.tempo = new_tempo\n",
        "\n",
        "    mid.save(\"generated/tmp/speedup_example_out_\" + str(i) + \".mid\")\n"
      ]
    }
  ],
  "metadata": {
    "colab": {
      "provenance": []
    },
    "kernelspec": {
      "display_name": "Python 3",
      "language": "python",
      "name": "python3"
    },
    "language_info": {
      "codemirror_mode": {
        "name": "ipython",
        "version": 3
      },
      "file_extension": ".py",
      "mimetype": "text/x-python",
      "name": "python",
      "nbconvert_exporter": "python",
      "pygments_lexer": "ipython3",
      "version": "3.11.2"
    },
    "vscode": {
      "interpreter": {
        "hash": "c261aea317cc0286b3b3261fbba9abdec21eaa57589985bb7a274bf54d6cc0a7"
      }
    }
  },
  "nbformat": 4,
  "nbformat_minor": 0
}
