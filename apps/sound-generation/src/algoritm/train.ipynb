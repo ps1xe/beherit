{
 "cells": [
  {
   "cell_type": "code",
   "execution_count": 1,
   "metadata": {},
   "outputs": [],
   "source": [
    "import numpy as np\n",
    "from tensorflow.keras.layers import Input, Dense, Flatten, Reshape, Embedding, TimeDistributed, Lambda, BatchNormalization, Activation, Dropout\n",
    "from tensorflow.keras.models import Model\n",
    "from tensorflow.keras.optimizers import Adam\n",
    "import keras\n",
    "import matplotlib.pyplot as plt\n",
    "from keras.callbacks import ModelCheckpoint"
   ]
  },
  {
   "cell_type": "code",
   "execution_count": 4,
   "metadata": {},
   "outputs": [],
   "source": [
    "loaded_piano_rolls = np.load('input-data/piano_rolls/classical/piano_rolls.npy', allow_pickle=True)"
   ]
  },
  {
   "cell_type": "code",
   "execution_count": 3,
   "metadata": {},
   "outputs": [],
   "source": [
    "input_data = np.load('input-data/note_sequences/network_input.npy', allow_pickle=True)\n",
    "output_data = np.load('input-data/note_sequences/network_output.npy', allow_pickle=True)\n"
   ]
  },
  {
   "attachments": {},
   "cell_type": "markdown",
   "metadata": {},
   "source": [
    "## LSTM"
   ]
  },
  {
   "cell_type": "code",
   "execution_count": null,
   "metadata": {},
   "outputs": [],
   "source": [
    "from keras.models import Sequential\n",
    "from keras.layers import LSTM, Dropout, Dense\n",
    "from keras.utils import np_utils\n",
    "\n",
    "model = Sequential()\n",
    "model.add(LSTM(512, input_shape=(input_data.shape[1], input_data.shape[2]), return_sequences=True))\n",
    "model.add(Dropout(0.3))\n",
    "model.add(LSTM(512))\n",
    "model.add(Dense(256))\n",
    "model.add(Dropout(0.3))\n",
    "model.add(Dense(561, activation='softmax'))\n",
    "\n",
    "model.compile(loss='categorical_crossentropy', optimizer='rmsprop')\n",
    "model.fit(input_data, output_data, epochs=100, batch_size=128)\n"
   ]
  },
  {
   "attachments": {},
   "cell_type": "markdown",
   "metadata": {},
   "source": [
    "## Модель LSTM Autoencoder"
   ]
  },
  {
   "attachments": {},
   "cell_type": "markdown",
   "metadata": {},
   "source": [
    "Здесь будет VAE"
   ]
  },
  {
   "attachments": {},
   "cell_type": "markdown",
   "metadata": {},
   "source": [
    " ![](https://magenta.tensorflow.org/assets/music_vae/nsynth-ae.png)\n",
    " \n",
    " \n",
    "\n",
    "\n"
   ]
  },
  {
   "cell_type": "code",
   "execution_count": 64,
   "metadata": {},
   "outputs": [],
   "source": [
    "# np.save('generated/piano_rolls/classical/piano_rolls.npy', generated_data)"
   ]
  },
  {
   "attachments": {},
   "cell_type": "markdown",
   "metadata": {},
   "source": [
    "VAE с иерархическим декодером"
   ]
  },
  {
   "cell_type": "code",
   "execution_count": 5,
   "metadata": {},
   "outputs": [
    {
     "name": "stdout",
     "output_type": "stream",
     "text": [
      "Epoch 1/1000\n",
      " 8/23 [=========>....................] - ETA: 33:57 - loss: 2534.1296"
     ]
    }
   ],
   "source": [
    "from keras.layers import Input, LSTM, RepeatVector, Dense, Flatten, Lambda, Reshape, Dropout\n",
    "from keras.models import Model\n",
    "from keras.losses import mse, binary_crossentropy\n",
    "import keras.backend as K\n",
    "from keras import regularizers\n",
    "\n",
    "# Входные данные\n",
    "input_dim = (1000, 128)\n",
    "inputs = Input(shape=input_dim, name='encoder_input')\n",
    "\n",
    "# Энкодер\n",
    "latent_dim = 128\n",
    "intermediate_dim = 512\n",
    "\n",
    "x = LSTM(intermediate_dim, kernel_regularizer=regularizers.l1_l2(l1=1e-5, l2=1e-4), dropout=0.2)(inputs)\n",
    "z_mean = Dense(latent_dim, name='z_mean', kernel_regularizer=regularizers.l2(1e-4))(x)\n",
    "z_log_var = Dense(latent_dim, name='z_log_var', kernel_regularizer=regularizers.l2(1e-4))(x)\n",
    "\n",
    "def sampling(args):\n",
    "    z_mean, z_log_var = args\n",
    "    epsilon = K.random_normal(shape=(K.shape(z_mean)[0], latent_dim), mean=0., stddev=1.)\n",
    "    return z_mean + K.exp(0.5 * z_log_var) * epsilon\n",
    "\n",
    "z = Lambda(sampling, output_shape=(latent_dim,), name='z')([z_mean, z_log_var])\n",
    "\n",
    "# Декодер\n",
    "decoder_input = Input(shape=(latent_dim,), name='decoder_input')\n",
    "h_decoded = RepeatVector(input_dim[0])(decoder_input)\n",
    "h_decoded = LSTM(intermediate_dim, return_sequences=True, kernel_regularizer=regularizers.l1_l2(l1=1e-5, l2=1e-4), dropout=0.2)(h_decoded)\n",
    "outputs = Dense(input_dim[1], activation='sigmoid', kernel_regularizer=regularizers.l2(1e-4))(h_decoded)\n",
    "\n",
    "# Иерархический декодер\n",
    "encoder = Model(inputs, [z_mean, z_log_var, z], name='encoder')\n",
    "decoder = Model(decoder_input, outputs, name='decoder')\n",
    "outputs = decoder(encoder(inputs)[2])\n",
    "outputs = Reshape(input_dim)(outputs)\n",
    "\n",
    "# Функция потерь VAE\n",
    "def vae_loss(inputs, outputs):\n",
    "    reconstruction_loss = mse(K.flatten(inputs), K.flatten(outputs))\n",
    "    reconstruction_loss *= input_dim[0] * input_dim[1]\n",
    "    kl_loss = 1 + z_log_var - K.square(z_mean) - K.exp(z_log_var)\n",
    "    kl_loss = -0.5 * K.sum(kl_loss, axis=-1)\n",
    "    vae_loss = K.mean(reconstruction_loss + kl_loss)\n",
    "    return vae_loss\n",
    "\n",
    "# Модель VAE\n",
    "vae = Model(inputs, outputs, name='vae')\n",
    "vae.add_loss(vae_loss(inputs, outputs))\n",
    "vae.compile(optimizer='adam')\n",
    "\n",
    "\n",
    "filepath = \"weights/classical/weights-{epoch:02d}-{loss:.4f}-bigger.hdf5\"\n",
    "\n",
    "checkpoint = ModelCheckpoint(\n",
    "        filepath,\n",
    "        monitor='loss',\n",
    "        verbose=0,\n",
    "        save_best_only=True,\n",
    "        mode='min'\n",
    ")\n",
    "\n",
    "callbacks_list = [checkpoint]\n",
    "\n",
    "vae.load_weights(\"weights/classical/weights-04-2541.7168-bigger.hdf5\")\n",
    "\n",
    "vae.fit(x=loaded_piano_rolls, y=loaded_piano_rolls, epochs=1000, batch_size=128,  callbacks=callbacks_list)\n",
    "# vae.save(\"gdrive/MyDrive/weights_1000_l.h5\")\n"
   ]
  },
  {
   "cell_type": "code",
   "execution_count": 5,
   "metadata": {},
   "outputs": [
    {
     "name": "stdout",
     "output_type": "stream",
     "text": [
      "1/1 [==============================] - 2s 2s/step\n"
     ]
    }
   ],
   "source": [
    "example = vae.predict(loaded_piano_rolls[0:10])"
   ]
  },
  {
   "cell_type": "code",
   "execution_count": 6,
   "metadata": {},
   "outputs": [
    {
     "data": {
      "text/plain": [
       "<matplotlib.image.AxesImage at 0x19332d46150>"
      ]
     },
     "execution_count": 6,
     "metadata": {},
     "output_type": "execute_result"
    },
    {
     "data": {
      "image/png": "[encoded data removed]",
      "text/plain": [
       "<Figure size 640x480 with 1 Axes>"
      ]
     },
     "metadata": {},
     "output_type": "display_data"
    }
   ],
   "source": [
    "import matplotlib.pyplot as plt\n",
    "plt.imshow(np.transpose(example[1]), cmap=\"gray\")"
   ]
  },
  {
   "cell_type": "code",
   "execution_count": 7,
   "metadata": {},
   "outputs": [
    {
     "data": {
      "text/plain": [
       "<matplotlib.image.AxesImage at 0x19332d46450>"
      ]
     },
     "execution_count": 7,
     "metadata": {},
     "output_type": "execute_result"
    },
    {
     "data": {
      "image/png": "[encoded data removed]",
      "text/plain": [
       "<Figure size 640x480 with 1 Axes>"
      ]
     },
     "metadata": {},
     "output_type": "display_data"
    }
   ],
   "source": [
    "plt.imshow(np.transpose(loaded_piano_rolls[0]), cmap=\"gray\")"
   ]
  }
 ],
 "metadata": {
  "kernelspec": {
   "display_name": "Python 3",
   "language": "python",
   "name": "python3"
  },
  "language_info": {
   "codemirror_mode": {
    "name": "ipython",
    "version": 3
   },
   "file_extension": ".py",
   "mimetype": "text/x-python",
   "name": "python",
   "nbconvert_exporter": "python",
   "pygments_lexer": "ipython3",
   "version": "3.11.2 (tags/v3.11.2:878ead1, Feb  7 2023, 16:38:35) [MSC v.1934 64 bit (AMD64)]"
  },
  "orig_nbformat": 4,
  "vscode": {
   "interpreter": {
    "hash": "c261aea317cc0286b3b3261fbba9abdec21eaa57589985bb7a274bf54d6cc0a7"
   }
  }
 },
 "nbformat": 4,
 "nbformat_minor": 2
}
